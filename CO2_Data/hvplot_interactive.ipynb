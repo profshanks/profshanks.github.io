{
 "cells": [
  {
   "cell_type": "markdown",
   "id": "040c997b",
   "metadata": {},
   "source": [
    "# The Easiest Way to Create an Interactive Dashboard in Python\n",
    "\n",
    "This notebook supports the blog post\n",
    "\n",
    "**The Easiest Way to Create an Interactive Dashboard in Python. Turn Pandas pipelines into a\n",
    "dashboard using hvplot `.interactive`**\n",
    "\n",
    "by *Sophia Yang* and *Marc Skov Madsen*.\n",
    "\n",
    "![Data App](assets/easy-dataframe-dashboards.gif)\n",
    "\n",
    "Source: https://github.com/sophiamyang/hvplot_interactive"
   ]
  },
  {
   "cell_type": "markdown",
   "id": "abf60b58",
   "metadata": {},
   "source": [
    "## Import and configure packages\n",
    "\n",
    "Please note that in **Colab** you will need to `!pip install panel hvplot`."
   ]
  },
  {
   "cell_type": "code",
   "execution_count": null,
   "id": "5cb553bf",
   "metadata": {},
   "outputs": [],
   "source": [
    "# !pip install panel==0.12.6 hvplot==0.7.3"
   ]
  },
  {
   "cell_type": "code",
   "execution_count": null,
   "id": "0f1112af",
   "metadata": {},
   "outputs": [],
   "source": [
    "import panel as pn\n",
    "\n",
    "pn.extension('tabulator', sizing_mode=\"stretch_width\")"
   ]
  },
  {
   "cell_type": "code",
   "execution_count": null,
   "id": "5adb11a6",
   "metadata": {},
   "outputs": [],
   "source": [
    "import hvplot.pandas\n",
    "import holoviews as hv\n",
    "\n",
    "hv.extension('bokeh')"
   ]
  },
  {
   "cell_type": "markdown",
   "id": "2db7ad42",
   "metadata": {},
   "source": [
    "## Define function to determine environment"
   ]
  },
  {
   "cell_type": "code",
   "execution_count": null,
   "id": "7196bce1",
   "metadata": {},
   "outputs": [],
   "source": [
    "def environment():\n",
    "    try:\n",
    "        get_ipython()\n",
    "        return \"notebook\"\n",
    "    except:\n",
    "        return \"server\"\n",
    "environment()"
   ]
  },
  {
   "cell_type": "markdown",
   "id": "ef4ccd06",
   "metadata": {},
   "source": [
    "## Define Color Palette"
   ]
  },
  {
   "cell_type": "code",
   "execution_count": null,
   "id": "ce8c5f82",
   "metadata": {},
   "outputs": [],
   "source": [
    "PALETTE = [\"#ff6f69\", \"#ffcc5c\", \"#88d8b0\", ]\n",
    "pn.Row(\n",
    "    pn.layout.HSpacer(height=50, background=PALETTE[0]),\n",
    "    pn.layout.HSpacer(height=50, background=PALETTE[1]),\n",
    "    pn.layout.HSpacer(height=50, background=PALETTE[2]),\n",
    ")"
   ]
  },
  {
   "cell_type": "markdown",
   "id": "7698a74c",
   "metadata": {},
   "source": [
    "## Load Data"
   ]
  },
  {
   "cell_type": "code",
   "execution_count": null,
   "id": "09d60a44",
   "metadata": {},
   "outputs": [],
   "source": [
    "from bokeh.sampledata.autompg import autompg_clean as df\n",
    "df.head()"
   ]
  },
  {
   "cell_type": "markdown",
   "id": "1bfed521",
   "metadata": {},
   "source": [
    "## Define DataFrame Pipeline"
   ]
  },
  {
   "cell_type": "code",
   "execution_count": null,
   "id": "4a42b6e5",
   "metadata": {},
   "outputs": [],
   "source": [
    "(\n",
    "    df[\n",
    "        (df.cyl == 4) & \n",
    "        (df.mfr.isin(['ford','chevrolet']))\n",
    "    ]\n",
    "    .groupby(['origin', 'cyl', 'mfr', 'yr'])['hp'].mean()\n",
    "    .to_frame()\n",
    "    .reset_index()\n",
    "    .sort_values(by='yr')\n",
    ").head(1)"
   ]
  },
  {
   "cell_type": "markdown",
   "id": "f928f0ba",
   "metadata": {},
   "source": [
    "## Make DataFrame Pipeline Interactive"
   ]
  },
  {
   "cell_type": "code",
   "execution_count": null,
   "id": "6e12aa62",
   "metadata": {},
   "outputs": [],
   "source": [
    "idf = df.interactive()"
   ]
  },
  {
   "cell_type": "markdown",
   "id": "835b20da",
   "metadata": {},
   "source": [
    "Define [Panel widgets](https://panel.holoviz.org/reference/index.html#widgets)"
   ]
  },
  {
   "cell_type": "code",
   "execution_count": null,
   "id": "956fa985",
   "metadata": {},
   "outputs": [],
   "source": [
    "cylinders = pn.widgets.IntSlider(name='Cylinders', start=4, end=8, step=2)\n",
    "mfr = pn.widgets.ToggleGroup(\n",
    "    name='MFR',\n",
    "    options=['ford', 'chevrolet', 'honda', 'toyota', 'audi'], \n",
    "    value=['ford', 'chevrolet', 'honda', 'toyota', 'audi'],\n",
    "    button_type='success')\n",
    "yaxis = pn.widgets.RadioButtonGroup(\n",
    "    name='Y axis', \n",
    "    options=['hp', 'weight'],\n",
    "    button_type='success'\n",
    ")"
   ]
  },
  {
   "cell_type": "markdown",
   "id": "743aa619",
   "metadata": {},
   "source": [
    "Combine pipeline and widgets"
   ]
  },
  {
   "cell_type": "code",
   "execution_count": null,
   "id": "b8883956",
   "metadata": {},
   "outputs": [],
   "source": [
    "ipipeline = (\n",
    "    idf[\n",
    "        (idf.cyl == cylinders) & \n",
    "        (idf.mfr.isin(mfr))\n",
    "    ]\n",
    "    .groupby(['origin', 'mpg'])[yaxis].mean()\n",
    "    .to_frame()\n",
    "    .reset_index()\n",
    "    .sort_values(by='mpg')  \n",
    "    .reset_index(drop=True)\n",
    ")\n",
    "ipipeline.head()"
   ]
  },
  {
   "cell_type": "markdown",
   "id": "bff77abf",
   "metadata": {},
   "source": [
    "## Pipe to Table"
   ]
  },
  {
   "cell_type": "code",
   "execution_count": null,
   "id": "95cfca51",
   "metadata": {},
   "outputs": [],
   "source": [
    "if environment()==\"server\":\n",
    "   theme=\"fast\"\n",
    "else:\n",
    "   theme=\"simple\""
   ]
  },
  {
   "cell_type": "code",
   "execution_count": null,
   "id": "d262cb39",
   "metadata": {},
   "outputs": [],
   "source": [
    "itable = ipipeline.pipe(pn.widgets.Tabulator, pagination='remote', page_size=10)\n",
    "itable"
   ]
  },
  {
   "cell_type": "markdown",
   "id": "b21344a1",
   "metadata": {},
   "source": [
    "Check out the [Tabulator Reference Guide](https://panel.holoviz.org/reference/widgets/Tabulator.html) for more inspiration."
   ]
  },
  {
   "cell_type": "markdown",
   "id": "246398c8",
   "metadata": {},
   "source": [
    "## Pipe to hvplot"
   ]
  },
  {
   "cell_type": "code",
   "execution_count": null,
   "id": "b958a6e1",
   "metadata": {},
   "outputs": [],
   "source": [
    "ihvplot = ipipeline.hvplot(x='mpg', y=yaxis, by='origin', color=PALETTE, line_width=6, height=400)\n",
    "ihvplot"
   ]
  },
  {
   "cell_type": "markdown",
   "id": "345db224",
   "metadata": {},
   "source": [
    "## Layout using Template\n",
    "\n",
    "Here we use the [FastListTemplate](https://panel.holoviz.org/reference/templates/FastListTemplate.html#templates-gallery-fastlisttemplate)."
   ]
  },
  {
   "cell_type": "code",
   "execution_count": null,
   "id": "d224e0e7",
   "metadata": {},
   "outputs": [],
   "source": [
    "template = pn.template.FastListTemplate(\n",
    "    title='Interactive DataFrame Dashboards with hvplot .interactive', \n",
    "    sidebar=[cylinders, 'Manufacturers', mfr, 'Y axis' , yaxis],\n",
    "    main=[ihvplot.panel(), itable.panel()],\n",
    "    accent_base_color=\"#88d8b0\",\n",
    "    header_background=\"#88d8b0\",\n",
    ")\n",
    "# template.show()\n",
    "template.servable();"
   ]
  },
  {
   "cell_type": "markdown",
   "id": "8831435d",
   "metadata": {},
   "source": [
    "Please note that to get the Tabulator table styled nicely for dark mode you can set `theme='fast'` when you define the `itable`. It won't work in the notebook though.\n",
    "\n",
    "To *serve the notebook* run `panel serve hvplot_interactive.ipynb`."
   ]
  }
 ],
 "metadata": {
  "kernelspec": {
   "display_name": "Python 3 (ipykernel)",
   "language": "python",
   "name": "python3"
  },
  "language_info": {
   "codemirror_mode": {
    "name": "ipython",
    "version": 3
   },
   "file_extension": ".py",
   "mimetype": "text/x-python",
   "name": "python",
   "nbconvert_exporter": "python",
   "pygments_lexer": "ipython3",
   "version": "3.10.2"
  }
 },
 "nbformat": 4,
 "nbformat_minor": 5
}
