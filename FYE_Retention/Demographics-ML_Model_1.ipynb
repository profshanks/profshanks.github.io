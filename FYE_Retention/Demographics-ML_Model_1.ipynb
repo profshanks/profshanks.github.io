{
 "cells": [
  {
   "cell_type": "markdown",
   "id": "392defcd",
   "metadata": {},
   "source": [
    "#### Machine Learning 1: SciKitLearn - Logistic Regression Model"
   ]
  },
  {
   "cell_type": "code",
   "execution_count": 1,
   "id": "97aa8e4a",
   "metadata": {
    "ExecuteTime": {
     "end_time": "2023-09-15T22:06:51.257392Z",
     "start_time": "2023-09-15T22:06:47.497593Z"
    }
   },
   "outputs": [],
   "source": [
    "import pandas as pd\n",
    "import numpy as np\n",
    "import sys\n",
    "import random\n",
    "\n",
    "from matplotlib import pyplot as plt\n",
    "from statistics import mean, stdev\n",
    "\n",
    "from sklearn.model_selection import train_test_split\n",
    "from sklearn.linear_model import LogisticRegression\n",
    "from sklearn.metrics import accuracy_score, classification_report, confusion_matrix\n",
    "\n",
    "import warnings\n",
    "warnings.filterwarnings('ignore')"
   ]
  },
  {
   "cell_type": "code",
   "execution_count": 2,
   "id": "65615b89",
   "metadata": {
    "ExecuteTime": {
     "end_time": "2023-09-15T22:06:52.467034Z",
     "start_time": "2023-09-15T22:06:51.262395Z"
    }
   },
   "outputs": [
    {
     "data": {
      "text/plain": [
       "(941, 61)"
      ]
     },
     "execution_count": 2,
     "metadata": {},
     "output_type": "execute_result"
    }
   ],
   "source": [
    "#!pip install openpyxl\n",
    "survey = pd.read_excel('Retention_Dataset_CLEAN.xlsx')\n",
    "survey.shape"
   ]
  },
  {
   "cell_type": "code",
   "execution_count": 3,
   "id": "5c8ead49",
   "metadata": {
    "ExecuteTime": {
     "end_time": "2023-09-15T22:06:52.482264Z",
     "start_time": "2023-09-15T22:06:52.470221Z"
    }
   },
   "outputs": [
    {
     "data": {
      "text/plain": [
       "Index(['Q4', 'Q6', 'Q7', 'Q8', 'Q9', 'Q21', 'Q20', 'Q21_1', 'Q21_2', 'Q21_3',\n",
       "       'Q21_11', 'Q21_12', 'Q21_13', 'Q21_14', 'Q21_15', 'Q21_16', 'Q21_17',\n",
       "       'Q23_2', 'Q23_3', 'Q23_1', 'Q23_4', 'Q22_1', 'Q22_2', 'Q22_3', 'Q22_4',\n",
       "       'Q22_5', 'Q22_6', 'Q22_8', 'Q22_7', 'Q24_1', 'Q24_2', 'Q24_8', 'Q24_3',\n",
       "       'Q24_7', 'Q24_4', 'Q24_5', 'Q24_6', 'Q25_4', 'Q25_5', 'Q25_6', 'Q25_7',\n",
       "       'Q25_8', 'Q25_9', 'Spr_22_Ret', 'Fa_22_Ret',\n",
       "       'Q27_American Indian or Alaska Native', 'Q27_Asian',\n",
       "       'Q27_Black or African American', 'Q27_Other', 'Q27_White', 'Q29_Female',\n",
       "       'Q29_Male', 'Q29_Non-binary / third gender', 'Q29_Prefer not to say',\n",
       "       'Q30_No', 'Q30_Prefer not to say', 'Q30_Yes',\n",
       "       'Q22_Off-Campus (with family)', 'Q22_Off-Campus (with friends etc.)',\n",
       "       'Q22_On-Campus', 'Q22_Other'],\n",
       "      dtype='object')"
      ]
     },
     "execution_count": 3,
     "metadata": {},
     "output_type": "execute_result"
    }
   ],
   "source": [
    "survey.columns"
   ]
  },
  {
   "cell_type": "markdown",
   "id": "28378c73",
   "metadata": {},
   "source": [
    "### Task 1: Create the training set & the result set\n",
    "\n",
    "\"just_data\" will be the matrix of data that contains the survey data for each student.\n",
    "\"y_vals\" will be the \"matrix\" of data that contains the retention result.\n",
    "\n",
    "Both of these will then be converted into Numpy matrices that we will label \"X\" and \"y.\"\n",
    "Using these labels will allow us to reuse the code from the ML course with fewer changes."
   ]
  },
  {
   "cell_type": "code",
   "execution_count": 4,
   "id": "9e67a25c",
   "metadata": {
    "ExecuteTime": {
     "end_time": "2023-09-15T22:06:52.513222Z",
     "start_time": "2023-09-15T22:06:52.489263Z"
    }
   },
   "outputs": [
    {
     "name": "stdout",
     "output_type": "stream",
     "text": [
      "(941, 16)\n"
     ]
    },
    {
     "data": {
      "text/plain": [
       "(941, 1)"
      ]
     },
     "execution_count": 4,
     "metadata": {},
     "output_type": "execute_result"
    }
   ],
   "source": [
    "data_columns = ['Q27_American Indian or Alaska Native', 'Q27_Asian',\n",
    "       'Q27_Black or African American', 'Q27_Other', 'Q27_White', 'Q29_Female',\n",
    "       'Q29_Male', 'Q29_Non-binary / third gender', 'Q29_Prefer not to say',\n",
    "       'Q30_No', 'Q30_Prefer not to say', 'Q30_Yes',\n",
    "       'Q22_Off-Campus (with family)', 'Q22_Off-Campus (with friends etc.)',\n",
    "       'Q22_On-Campus', 'Q22_Other']\n",
    "\n",
    "just_data = survey[data_columns]\n",
    "print(just_data.shape)\n",
    "\n",
    "y_vals = survey[['Fa_22_Ret']]\n",
    "y_vals.shape"
   ]
  },
  {
   "cell_type": "code",
   "execution_count": 5,
   "id": "bba588cb",
   "metadata": {
    "ExecuteTime": {
     "end_time": "2023-09-15T22:06:52.545348Z",
     "start_time": "2023-09-15T22:06:52.516344Z"
    }
   },
   "outputs": [
    {
     "data": {
      "text/plain": [
       "Fa_22_Ret\n",
       "1            714\n",
       "0            227\n",
       "dtype: int64"
      ]
     },
     "execution_count": 5,
     "metadata": {},
     "output_type": "execute_result"
    }
   ],
   "source": [
    "y_vals.value_counts()"
   ]
  },
  {
   "cell_type": "code",
   "execution_count": 6,
   "id": "548f1b62",
   "metadata": {
    "ExecuteTime": {
     "end_time": "2023-09-15T22:06:52.561286Z",
     "start_time": "2023-09-15T22:06:52.549344Z"
    }
   },
   "outputs": [],
   "source": [
    "X = just_data.to_numpy()\n",
    "y = y_vals.to_numpy()\n",
    "y = y.ravel()"
   ]
  },
  {
   "cell_type": "code",
   "execution_count": 7,
   "id": "bf42fcf6",
   "metadata": {
    "ExecuteTime": {
     "end_time": "2023-09-15T22:06:52.576597Z",
     "start_time": "2023-09-15T22:06:52.565252Z"
    }
   },
   "outputs": [
    {
     "name": "stdout",
     "output_type": "stream",
     "text": [
      "The first element of X is:  [False False False False  True False  True False False  True False False\n",
      " False False  True False]\n",
      "The first element of y is:  1\n",
      "The shape of X is: (941, 16)\n",
      "The shape of y is: (941,)\n"
     ]
    }
   ],
   "source": [
    "print ('The first element of X is: ', X[0])\n",
    "print ('The first element of y is: ', y[0])\n",
    "\n",
    "print ('The shape of X is: ' + str(X.shape))\n",
    "print ('The shape of y is: ' + str(y.shape))"
   ]
  },
  {
   "cell_type": "markdown",
   "id": "6278ed86",
   "metadata": {},
   "source": [
    "#### Split the Dataset\n",
    "The following code with use scikitlearn to split out 60% of the data for training, 20% for cross-validation, and 20% for final testing"
   ]
  },
  {
   "cell_type": "code",
   "execution_count": 8,
   "id": "2037d25d",
   "metadata": {
    "ExecuteTime": {
     "end_time": "2023-09-15T22:06:52.592273Z",
     "start_time": "2023-09-15T22:06:52.581272Z"
    }
   },
   "outputs": [
    {
     "name": "stdout",
     "output_type": "stream",
     "text": [
      "X_train.shape (470, 16) y_train.shape (470,)\n",
      "X_test.shape (471, 16) y_test.shape (471,)\n"
     ]
    }
   ],
   "source": [
    "#split the data using sklearn routine \n",
    "X_train, X_test, y_train, y_test = train_test_split(X,y,test_size=0.50, random_state=1)\n",
    "print(\"X_train.shape\", X_train.shape, \"y_train.shape\", y_train.shape)\n",
    "print(\"X_test.shape\", X_test.shape, \"y_test.shape\", y_test.shape)"
   ]
  },
  {
   "cell_type": "code",
   "execution_count": 9,
   "id": "3678b13a",
   "metadata": {
    "ExecuteTime": {
     "end_time": "2023-09-15T22:06:52.701537Z",
     "start_time": "2023-09-15T22:06:52.596274Z"
    }
   },
   "outputs": [
    {
     "name": "stdout",
     "output_type": "stream",
     "text": [
      "Accuracy: 0.53\n",
      "Confusion Matrix:\n",
      "[[ 65  49]\n",
      " [171 186]]\n",
      "Classification Report:\n",
      "              precision    recall  f1-score   support\n",
      "\n",
      "           0       0.28      0.57      0.37       114\n",
      "           1       0.79      0.52      0.63       357\n",
      "\n",
      "    accuracy                           0.53       471\n",
      "   macro avg       0.53      0.55      0.50       471\n",
      "weighted avg       0.67      0.53      0.57       471\n",
      "\n"
     ]
    }
   ],
   "source": [
    "# Step 5: Train the Logistic Regression model\n",
    "model = LogisticRegression()\n",
    "model.fit(X_train, y_train)\n",
    "\n",
    "# Step 6: Make predictions on the test set\n",
    "y_pred = model.predict(X_test)\n",
    "y_pred_probs = model.predict_proba(X_test)[:, 1]\n",
    "\n",
    "new_threshold = 0.79\n",
    "\n",
    "y_pred = (y_pred_probs >= new_threshold).astype(int)\n",
    "#print(y_pred)\n",
    "\n",
    "# Step 7: Evaluate the model's performance\n",
    "accuracy = accuracy_score(y_test, y_pred)\n",
    "conf_matrix = confusion_matrix(y_test, y_pred)\n",
    "classification_rep = classification_report(y_test, y_pred, output_dict=False)\n",
    "\n",
    "print(f\"Accuracy: {accuracy:.2f}\")\n",
    "print(\"Confusion Matrix:\")\n",
    "print(conf_matrix)\n",
    "print(\"Classification Report:\")\n",
    "print(classification_rep)"
   ]
  },
  {
   "cell_type": "code",
   "execution_count": 10,
   "id": "63e23eb9",
   "metadata": {
    "ExecuteTime": {
     "end_time": "2023-09-15T22:06:52.716548Z",
     "start_time": "2023-09-15T22:06:52.707538Z"
    }
   },
   "outputs": [
    {
     "name": "stdout",
     "output_type": "stream",
     "text": [
      "<class 'numpy.ndarray'>\n",
      "171 49\n"
     ]
    }
   ],
   "source": [
    "print(type(conf_matrix))\n",
    "fn = conf_matrix[1][0]\n",
    "fp = conf_matrix[0][1]\n",
    "print(fn, fp)"
   ]
  },
  {
   "cell_type": "code",
   "execution_count": 11,
   "id": "e795da73",
   "metadata": {
    "ExecuteTime": {
     "end_time": "2023-09-15T22:06:52.732341Z",
     "start_time": "2023-09-15T22:06:52.719707Z"
    }
   },
   "outputs": [
    {
     "name": "stdout",
     "output_type": "stream",
     "text": [
      "[1 1 1 1 1 1 1 1 1 0 1 0 1 1 1 1 1 1 1 1 1 1 1 1 0 1 1 1 1 0 1 0 1 1 0 1 1\n",
      " 1 1 1 1 1 1 0 0 1 1 1 1 1 1 1 1 1 1 1 1 0 0 1 1 0 1 1 0 1 1 1 1 1 1 1 1 1\n",
      " 0 1 1 1 1 1 1 1 1 1 1 1 1 0 1 1 0 1 1 1 1 1 0 1 1 1 1 1 0 0 0 1 1 1 0 0 1\n",
      " 1 1 0 1 1 1 1 1 1 1 0 1 1 1 1 1 1 1 1 1 1 1 0 1 1 1 1 1 1 1 1 1 1 1 1 1 1\n",
      " 1 1 1 1 1 1 1 0 1 1 0 1 0 0 1 1 0 0 0 1 1 0 1 1 0 0 1 1 1 1 1 0 0 1 0 0 0\n",
      " 0 0 1 1 1 1 1 1 1 1 1 0 1 0 1 1 1 1 1 1 0 0 1 0 1 1 0 1 1 1 1 1 1 0 1 1 1\n",
      " 0 1 1 1 0 1 1 1 1 0 0 1 1 1 0 1 1 0 1 1 1 1 1 1 1 1 1 1 1 1 1 1 0 1 1 1 1\n",
      " 1 0 1 1 0 1 1 0 1 1 1 0 0 1 0 1 1 1 1 0 1 1 0 1 1 1 1 1 1 0 1 1 1 1 1 1 0\n",
      " 1 1 1 1 0 1 0 1 1 1 0 1 0 1 1 1 1 1 1 1 1 0 1 1 1 1 0 1 1 1 0 1 1 1 1 0 1\n",
      " 0 1 1 1 1 1 1 1 1 0 1 0 1 0 1 1 1 1 0 1 0 1 1 1 0 1 1 1 1 1 1 1 1 1 1 1 0\n",
      " 0 1 1 1 1 0 1 1 1 0 1 1 1 0 1 1 1 1 1 0 1 1 1 1 1 1 1 1 1 1 0 1 0 0 1 0 0\n",
      " 1 1 1 0 1 1 1 1 1 1 1 1 1 1 1 0 1 1 1 1 1 1 1 1 1 1 0 1 1 1 1 1 1 1 1 1 1\n",
      " 1 1 1 1 1 0 0 1 1 1 1 0 0 1 0 1 0 1 1 1 1 1 0 1 1 1 0]\n"
     ]
    }
   ],
   "source": [
    "new_threshold = 0.75\n",
    "\n",
    "y_pred = (y_pred_probs >= new_threshold).astype(int)\n",
    "print(y_pred)"
   ]
  },
  {
   "cell_type": "code",
   "execution_count": 12,
   "id": "3e172978",
   "metadata": {
    "ExecuteTime": {
     "end_time": "2023-09-15T22:06:52.748334Z",
     "start_time": "2023-09-15T22:06:52.736278Z"
    }
   },
   "outputs": [],
   "source": [
    "def learn_me(threshold):\n",
    "    # Step 5: Train the Logistic Regression model\n",
    "    model = LogisticRegression()\n",
    "    model.fit(X_train, y_train)\n",
    "\n",
    "    # Step 6: Make predictions on the test set\n",
    "    y_pred = model.predict(X_test)\n",
    "    y_pred_probs = model.predict_proba(X_test)[:, 1]\n",
    "    y_pred = (y_pred_probs >= threshold).astype(int)\n",
    "\n",
    "    # Step 7: Evaluate the model's performance\n",
    "    accuracy = accuracy_score(y_test, y_pred)\n",
    "    conf_matrix = confusion_matrix(y_test, y_pred)\n",
    "    classification_rep = classification_report(y_test, y_pred, output_dict=True)\n",
    "    #classification_rep = classification_report(y_test, y_pred)\n",
    "    \n",
    "    return accuracy, conf_matrix, classification_rep"
   ]
  },
  {
   "cell_type": "code",
   "execution_count": 13,
   "id": "bbe978bb",
   "metadata": {
    "ExecuteTime": {
     "end_time": "2023-09-15T22:06:52.779031Z",
     "start_time": "2023-09-15T22:06:52.751281Z"
    }
   },
   "outputs": [],
   "source": [
    "def iterate_me(bottom, top):\n",
    "    results = []\n",
    "    means = []\n",
    "    recalls = []\n",
    "    false_ns = []\n",
    "    false_ps = []\n",
    "    thresholds = []\n",
    "    \n",
    "    for threshold in range(bottom, top+1):\n",
    "        thresholds.append(threshold/100)\n",
    "        learning = learn_me((threshold/100))\n",
    "        results.append(learning[0])\n",
    "        current_mean = mean(results)\n",
    "        means.append(current_mean)\n",
    "        recalls.append(learning[2]['0']['recall'])\n",
    "        false_ns.append((learning[1][1][0])/len(X_test))\n",
    "        false_ps.append((learning[1][0][1])/len(X_test))\n",
    "        \n",
    "    data = {'Accuracy': results,\n",
    "           'False Negatives': false_ns,\n",
    "           'False Positives': false_ps,\n",
    "           'Threshold': thresholds}\n",
    "    df = pd.DataFrame(data)\n",
    "    df.plot('Threshold', ['Accuracy', 'False Negatives', 'False Positives'], figsize=(12,6))\n",
    "    #probability = plt.gca().lines[2].set_linewidth(3)\n",
    "    #weighted = plt.gca().lines[1].set_linestyle('--')\n",
    "    plt.xlabel('Threshold')\n",
    "    plt.ylabel('Accuracy/Recall')\n",
    "    plt.title('Predictive Accuracy for SciKitLearn Logistic Regression Model')\n",
    "    #plt.legend(loc='lower left')\n",
    "    plt.show()\n",
    "    \n",
    "    average = round((mean(results) * 100), 2)\n",
    "    standard_dev = round(stdev(results), 2)\n",
    "    \n",
    "    #print(f'After {cycles}:')\n",
    "    #print(f'Accuracy: {average}%   Standard Deviation: {standard_dev}')\n",
    "    \n",
    "    return learning"
   ]
  },
  {
   "cell_type": "code",
   "execution_count": 14,
   "id": "b21044ad",
   "metadata": {
    "ExecuteTime": {
     "end_time": "2023-09-15T22:06:54.923067Z",
     "start_time": "2023-09-15T22:06:52.781031Z"
    },
    "scrolled": true
   },
   "outputs": [
    {
     "data": {
      "image/png": "[encoded data removed]",
      "text/plain": [
       "<Figure size 1200x600 with 1 Axes>"
      ]
     },
     "metadata": {},
     "output_type": "display_data"
    }
   ],
   "source": [
    "learning = iterate_me(1, 100)"
   ]
  },
  {
   "cell_type": "code",
   "execution_count": 15,
   "id": "a968c12e",
   "metadata": {
    "ExecuteTime": {
     "end_time": "2023-09-15T22:06:54.938103Z",
     "start_time": "2023-09-15T22:06:54.926954Z"
    }
   },
   "outputs": [
    {
     "name": "stdout",
     "output_type": "stream",
     "text": [
      "Accuracy: 0.24\n",
      "Confusion Matrix:\n",
      "[[114   0]\n",
      " [357   0]]\n",
      "Classification Report:\n",
      "{'0': {'precision': 0.24203821656050956, 'recall': 1.0, 'f1-score': 0.38974358974358975, 'support': 114}, '1': {'precision': 0.0, 'recall': 0.0, 'f1-score': 0.0, 'support': 357}, 'accuracy': 0.24203821656050956, 'macro avg': {'precision': 0.12101910828025478, 'recall': 0.5, 'f1-score': 0.19487179487179487, 'support': 471}, 'weighted avg': {'precision': 0.05858249827579212, 'recall': 0.24203821656050956, 'f1-score': 0.09433284337742937, 'support': 471}}\n"
     ]
    }
   ],
   "source": [
    "accuracy = learning[0]\n",
    "conf_matrix = learning[1]\n",
    "classification_rep = learning[2]\n",
    "\n",
    "print(f\"Accuracy: {accuracy:.2f}\")\n",
    "print(\"Confusion Matrix:\")\n",
    "print(conf_matrix)\n",
    "print(\"Classification Report:\")\n",
    "print(classification_rep)"
   ]
  },
  {
   "cell_type": "markdown",
   "id": "9fbd5256",
   "metadata": {},
   "source": [
    "## Summary:\n",
    "- On the one hand, an accuracy rating of 75.16% seems pretty good...\n",
    "- But that is suspiciously close to the 76% accuracy rate from just guessing \"1\" every time...\n",
    "- And looking at the pool of incorrect predictions, we can see that this is essentially what happened:\n",
    " - 112 out of 117 wrong predictions were false positives\n",
    " - The model is basically just guessing \"1\" nearly every time."
   ]
  },
  {
   "cell_type": "code",
   "execution_count": null,
   "id": "6f3b7376",
   "metadata": {},
   "outputs": [],
   "source": []
  }
 ],
 "metadata": {
  "kernelspec": {
   "display_name": "Python 3 (ipykernel)",
   "language": "python",
   "name": "python3"
  },
  "language_info": {
   "codemirror_mode": {
    "name": "ipython",
    "version": 3
   },
   "file_extension": ".py",
   "mimetype": "text/x-python",
   "name": "python",
   "nbconvert_exporter": "python",
   "pygments_lexer": "ipython3",
   "version": "3.8.8"
  }
 },
 "nbformat": 4,
 "nbformat_minor": 5
}
