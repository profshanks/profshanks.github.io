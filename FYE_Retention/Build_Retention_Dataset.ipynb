{
 "cells": [
  {
   "cell_type": "code",
   "execution_count": 1,
   "id": "b12e6286",
   "metadata": {
    "ExecuteTime": {
     "end_time": "2023-09-03T19:17:21.332339Z",
     "start_time": "2023-09-03T19:17:14.275860Z"
    }
   },
   "outputs": [],
   "source": [
    "import pandas as pd\n",
    "import ydata_profiling\n",
    "import openpyxl"
   ]
  },
  {
   "cell_type": "markdown",
   "id": "19fc95cf",
   "metadata": {},
   "source": [
    "## Load Dataframes"
   ]
  },
  {
   "cell_type": "code",
   "execution_count": 2,
   "id": "d1253369",
   "metadata": {
    "ExecuteTime": {
     "end_time": "2023-09-03T19:17:23.484411Z",
     "start_time": "2023-09-03T19:17:23.403495Z"
    }
   },
   "outputs": [],
   "source": [
    "raw = pd.read_csv('Fall_2021.2_December 13.csv', skiprows=[1, 2])\n",
    "#raw.columns"
   ]
  },
  {
   "cell_type": "code",
   "execution_count": 3,
   "id": "2d558625",
   "metadata": {
    "ExecuteTime": {
     "end_time": "2023-09-03T19:17:24.382264Z",
     "start_time": "2023-09-03T19:17:24.358703Z"
    }
   },
   "outputs": [
    {
     "name": "stdout",
     "output_type": "stream",
     "text": [
      "(822, 76)\n"
     ]
    },
    {
     "data": {
      "text/plain": [
       "Index(['StartDate', 'EndDate', 'Status', 'IPAddress', 'Progress',\n",
       "       'Duration (in seconds)', 'Finished', 'RecordedDate', 'ResponseId',\n",
       "       'RecipientLastName', 'RecipientFirstName', 'RecipientEmail',\n",
       "       'ExternalReference', 'LocationLatitude', 'LocationLongitude',\n",
       "       'DistributionChannel', 'UserLanguage', 'Q2', 'Q3', 'Q20', 'EMPLID',\n",
       "       'Q27', 'Q29', 'Q30', 'Q22', 'Q6', 'Q7', 'Q8', 'Q9', 'Q21', 'Q20.1',\n",
       "       'Q21_1', 'Q21_2', 'Q21_3', 'Q21_11', 'Q21_12', 'Q21_13', 'Q21_14',\n",
       "       'Q21_15', 'Q21_16', 'Q21_17', 'Q23_2', 'Q23_3', 'Q23_1', 'Q23_4',\n",
       "       'Q22_1', 'Q22_2', 'Q22_3', 'Q22_4', 'Q22_5', 'Q22_6', 'Q22_8', 'Q22_7',\n",
       "       'Q24_1', 'Q24_2', 'Q24_8', 'Q24_3', 'Q24_7', 'Q24_4', 'Q24_5', 'Q24_6',\n",
       "       'Q25_4', 'Q25_5', 'Q25_6', 'Q25_7', 'Q25_8', 'Q25_9', 'Q33',\n",
       "       'Q33_5_TEXT', 'Q34', 'Q35', 'Q35_11_TEXT', 'Q36', 'Q36_11_TEXT', 'Q37',\n",
       "       'stub'],\n",
       "      dtype='object')"
      ]
     },
     "execution_count": 3,
     "metadata": {},
     "output_type": "execute_result"
    }
   ],
   "source": [
    "raw.rename(columns={'Q4': 'EMPLID'}, inplace=True) # Enables merge with other dataframes\n",
    "\n",
    "raw.loc[raw['RecipientEmail'].isna(), 'RecipientEmail'] = raw.loc[raw['RecipientEmail'].isna(), 'Q20']\n",
    "\n",
    "raw['stub'] = raw['RecipientEmail'].apply(lambda x: x.split('@')[0].lower()) # Enables merge with other dataframes\n",
    "print(raw.shape)\n",
    "raw.columns"
   ]
  },
  {
   "cell_type": "markdown",
   "id": "cacef042",
   "metadata": {},
   "source": [
    "The following dataset had inconsistent values for the negative state. This code cleans the data and converts all values to 0/1"
   ]
  },
  {
   "cell_type": "code",
   "execution_count": 4,
   "id": "9d0b5568",
   "metadata": {
    "ExecuteTime": {
     "end_time": "2023-09-03T19:17:25.764984Z",
     "start_time": "2023-09-03T19:17:25.418933Z"
    }
   },
   "outputs": [
    {
     "data": {
      "text/plain": [
       "Index(['TERM', 'COURSE', 'EMPLID', 'Spr_22_Ret', 'Fa_22_Ret'], dtype='object')"
      ]
     },
     "execution_count": 4,
     "metadata": {},
     "output_type": "execute_result"
    }
   ],
   "source": [
    "ret = pd.read_excel('172198-UST1000-retention-f21-120222.xlsx')\n",
    "ret.rename(columns={'ENROLLED_1223': 'Spr_22_Ret', 'ENROLLED_1229': 'Fa_22_Ret'}, inplace=True)\n",
    "\n",
    "ret.Spr_22_Ret = ret.Spr_22_Ret.apply(lambda x: 1 if x == 'Y' else 0)\n",
    "ret.Fa_22_Ret = ret.Fa_22_Ret.apply(lambda x: 1 if x == 'Y' else 0)\n",
    "ret.columns"
   ]
  },
  {
   "cell_type": "code",
   "execution_count": 5,
   "id": "8c2de518",
   "metadata": {
    "ExecuteTime": {
     "end_time": "2023-09-03T19:17:26.629347Z",
     "start_time": "2023-09-03T19:17:26.406960Z"
    }
   },
   "outputs": [
    {
     "data": {
      "text/plain": [
       "Index(['section', 'instructor', 'first_name', 'last_name', 'stu_id', 'email',\n",
       "       'school', 'major', 'year'],\n",
       "      dtype='object')"
      ]
     },
     "execution_count": 5,
     "metadata": {},
     "output_type": "execute_result"
    }
   ],
   "source": [
    "mega = pd.read_excel('Mega_Roster_21.xlsx')\n",
    "mega.columns"
   ]
  },
  {
   "cell_type": "code",
   "execution_count": 6,
   "id": "4212e5ad",
   "metadata": {
    "ExecuteTime": {
     "end_time": "2023-09-03T19:17:27.307959Z",
     "start_time": "2023-09-03T19:17:27.294983Z"
    }
   },
   "outputs": [
    {
     "data": {
      "text/plain": [
       "Index(['email', 'EMPLID', 'stub'], dtype='object')"
      ]
     },
     "execution_count": 6,
     "metadata": {},
     "output_type": "execute_result"
    }
   ],
   "source": [
    "mega['stub'] = mega['email'].apply(lambda x: x.split('@')[0].lower()) # Enables merge with other dataframes\n",
    "mega = mega[['email', 'stu_id', 'stub']]\n",
    "mega.rename(columns={'stu_id': 'EMPLID'}, inplace=True)\n",
    "mega['EMPLID'] = mega['EMPLID'].astype('int64')\n",
    "mega.columns"
   ]
  },
  {
   "cell_type": "markdown",
   "id": "08321760",
   "metadata": {},
   "source": [
    "Time to merge data from the dataset with the retention data and the one with the rest of the student information"
   ]
  },
  {
   "cell_type": "code",
   "execution_count": 7,
   "id": "f9e2d355",
   "metadata": {
    "ExecuteTime": {
     "end_time": "2023-09-03T19:17:28.331386Z",
     "start_time": "2023-09-03T19:17:28.294222Z"
    }
   },
   "outputs": [
    {
     "data": {
      "text/plain": [
       "Index(['EMPLID', 'Spr_22_Ret', 'Fa_22_Ret', 'stub'], dtype='object')"
      ]
     },
     "execution_count": 7,
     "metadata": {},
     "output_type": "execute_result"
    }
   ],
   "source": [
    "ret = ret.merge(mega, on='EMPLID', how='left')\n",
    "#ret['stub'] = ret['email'].apply(lambda x: x.split('@')[0].lower())\n",
    "ret = ret[['EMPLID', 'Spr_22_Ret', 'Fa_22_Ret', 'stub']]\n",
    "ret.columns"
   ]
  },
  {
   "cell_type": "code",
   "execution_count": 8,
   "id": "68f77857",
   "metadata": {
    "ExecuteTime": {
     "end_time": "2023-09-03T19:17:29.586689Z",
     "start_time": "2023-09-03T19:17:29.578665Z"
    }
   },
   "outputs": [],
   "source": [
    "id_nums = ret['EMPLID'].to_list()"
   ]
  },
  {
   "cell_type": "code",
   "execution_count": 9,
   "id": "95b64ead",
   "metadata": {
    "ExecuteTime": {
     "end_time": "2023-09-03T19:17:32.864663Z",
     "start_time": "2023-09-03T19:17:32.816420Z"
    }
   },
   "outputs": [
    {
     "name": "stdout",
     "output_type": "stream",
     "text": [
      "(822, 79)\n"
     ]
    },
    {
     "data": {
      "text/plain": [
       "Index(['StartDate', 'EndDate', 'Status', 'IPAddress', 'Progress',\n",
       "       'Duration (in seconds)', 'Finished', 'RecordedDate', 'ResponseId',\n",
       "       'RecipientLastName', 'RecipientFirstName', 'RecipientEmail',\n",
       "       'ExternalReference', 'LocationLatitude', 'LocationLongitude',\n",
       "       'DistributionChannel', 'UserLanguage', 'Q2', 'Q3', 'Q20', 'EMPLID',\n",
       "       'Q27', 'Q29', 'Q30', 'Q22', 'Q6', 'Q7', 'Q8', 'Q9', 'Q21', 'Q20.1',\n",
       "       'Q21_1', 'Q21_2', 'Q21_3', 'Q21_11', 'Q21_12', 'Q21_13', 'Q21_14',\n",
       "       'Q21_15', 'Q21_16', 'Q21_17', 'Q23_2', 'Q23_3', 'Q23_1', 'Q23_4',\n",
       "       'Q22_1', 'Q22_2', 'Q22_3', 'Q22_4', 'Q22_5', 'Q22_6', 'Q22_8', 'Q22_7',\n",
       "       'Q24_1', 'Q24_2', 'Q24_8', 'Q24_3', 'Q24_7', 'Q24_4', 'Q24_5', 'Q24_6',\n",
       "       'Q25_4', 'Q25_5', 'Q25_6', 'Q25_7', 'Q25_8', 'Q25_9', 'Q33',\n",
       "       'Q33_5_TEXT', 'Q34', 'Q35', 'Q35_11_TEXT', 'Q36', 'Q36_11_TEXT', 'Q37',\n",
       "       'stub_x', 'Spr_22_Ret', 'Fa_22_Ret', 'stub_y'],\n",
       "      dtype='object')"
      ]
     },
     "execution_count": 9,
     "metadata": {},
     "output_type": "execute_result"
    }
   ],
   "source": [
    "survey = raw.merge(ret, on='EMPLID', how='left')\n",
    "'''\n",
    "survey = survey[['EMPLID', 'Q27', 'Q29', 'Q30', 'Q22', 'Q6', 'Q7', 'Q8', 'Q9', 'Q21',\n",
    "       'Q20.1', 'Q21_1', 'Q21_2', 'Q21_3', 'Q21_11', 'Q21_12', 'Q21_13',\n",
    "       'Q21_14', 'Q21_15', 'Q21_16', 'Q21_17', 'Q23_2', 'Q23_3', 'Q23_1',\n",
    "       'Q23_4', 'Q22_1', 'Q22_2', 'Q22_3', 'Q22_4', 'Q22_5', 'Q22_6', 'Q22_8',\n",
    "       'Q22_7', 'Q24_1', 'Q24_2', 'Q24_8', 'Q24_3', 'Q24_7', 'Q24_4', 'Q24_5',\n",
    "       'Q24_6', 'Q25_4', 'Q25_5', 'Q25_6', 'Q25_7', 'Q25_8', 'Q25_9', \n",
    "       'COURSE', 'Spr_22_Ret', 'Fa_22_Ret']]\n",
    "'''\n",
    "print(survey.shape)\n",
    "survey.columns"
   ]
  },
  {
   "cell_type": "code",
   "execution_count": 10,
   "id": "f67933c0",
   "metadata": {
    "ExecuteTime": {
     "end_time": "2023-09-03T19:17:35.522310Z",
     "start_time": "2023-09-03T19:17:35.493317Z"
    }
   },
   "outputs": [
    {
     "data": {
      "text/plain": [
       "Index(['StartDate', 'EndDate', 'Status', 'IPAddress', 'Progress',\n",
       "       'Duration (in seconds)', 'Finished', 'RecordedDate', 'ResponseId',\n",
       "       'RecipientLastName', 'RecipientFirstName', 'RecipientEmail',\n",
       "       'ExternalReference', 'LocationLatitude', 'LocationLongitude',\n",
       "       'DistributionChannel', 'UserLanguage', 'Q2', 'Q3', 'Q20', 'EMPLID',\n",
       "       'Q27', 'Q29', 'Q30', 'Q22', 'Q6', 'Q7', 'Q8', 'Q9', 'Q21', 'Q20.1',\n",
       "       'Q21_1', 'Q21_2', 'Q21_3', 'Q21_11', 'Q21_12', 'Q21_13', 'Q21_14',\n",
       "       'Q21_15', 'Q21_16', 'Q21_17', 'Q23_2', 'Q23_3', 'Q23_1', 'Q23_4',\n",
       "       'Q22_1', 'Q22_2', 'Q22_3', 'Q22_4', 'Q22_5', 'Q22_6', 'Q22_8', 'Q22_7',\n",
       "       'Q24_1', 'Q24_2', 'Q24_8', 'Q24_3', 'Q24_7', 'Q24_4', 'Q24_5', 'Q24_6',\n",
       "       'Q25_4', 'Q25_5', 'Q25_6', 'Q25_7', 'Q25_8', 'Q25_9', 'Q33',\n",
       "       'Q33_5_TEXT', 'Q34', 'Q35', 'Q35_11_TEXT', 'Q36', 'Q36_11_TEXT', 'Q37',\n",
       "       'stub_x', 'Spr_22_Ret', 'Fa_22_Ret'],\n",
       "      dtype='object')"
      ]
     },
     "execution_count": 10,
     "metadata": {},
     "output_type": "execute_result"
    }
   ],
   "source": [
    "#survey.rename(columns={'stub_x': 'stub'}, inplace=True)\n",
    "survey = survey.drop(['stub_y'], axis=1)\n",
    "survey.columns"
   ]
  },
  {
   "cell_type": "markdown",
   "id": "118992d0",
   "metadata": {},
   "source": [
    "The following creates a dataframe of the students who could not be merged earlier."
   ]
  },
  {
   "cell_type": "code",
   "execution_count": 11,
   "id": "32373e91",
   "metadata": {
    "ExecuteTime": {
     "end_time": "2023-09-03T19:17:40.209642Z",
     "start_time": "2023-09-03T19:17:40.143017Z"
    }
   },
   "outputs": [
    {
     "name": "stdout",
     "output_type": "stream",
     "text": [
      "(70, 7)\n",
      "Index(['ID', 'Name', 'Email', 'Units', 'Program and Plan', 'Level', 'stub'], dtype='object')\n",
      "<class 'list'>\n"
     ]
    }
   ],
   "source": [
    "misfits = pd.read_excel('misfits.xlsx')\n",
    "misfits['stub'] = misfits['Email'].apply(lambda x: x.split('@')[0].lower())\n",
    "print(misfits.shape)\n",
    "print(misfits.columns)\n",
    "#print(problems.columns)\n",
    "m_stubs = misfits.stub.to_list()\n",
    "print(type(m_stubs))"
   ]
  },
  {
   "cell_type": "code",
   "execution_count": 12,
   "id": "d576bb58",
   "metadata": {
    "ExecuteTime": {
     "end_time": "2023-09-03T19:17:42.740277Z",
     "start_time": "2023-09-03T19:17:42.728266Z"
    }
   },
   "outputs": [],
   "source": [
    "survey = survey[~survey['stub_x'].isin(m_stubs)]\n",
    "survey = survey.drop(survey[survey['EMPLID'] == 5692486].index)"
   ]
  },
  {
   "cell_type": "code",
   "execution_count": 13,
   "id": "a5abd57c",
   "metadata": {
    "ExecuteTime": {
     "end_time": "2023-09-03T19:17:43.554300Z",
     "start_time": "2023-09-03T19:17:43.529268Z"
    }
   },
   "outputs": [
    {
     "name": "stdout",
     "output_type": "stream",
     "text": [
      "(8, 78)\n"
     ]
    },
    {
     "data": {
      "text/plain": [
       "Index(['StartDate', 'EndDate', 'Status', 'IPAddress', 'Progress',\n",
       "       'Duration (in seconds)', 'Finished', 'RecordedDate', 'ResponseId',\n",
       "       'RecipientLastName', 'RecipientFirstName', 'RecipientEmail',\n",
       "       'ExternalReference', 'LocationLatitude', 'LocationLongitude',\n",
       "       'DistributionChannel', 'UserLanguage', 'Q2', 'Q3', 'Q20', 'EMPLID',\n",
       "       'Q27', 'Q29', 'Q30', 'Q22', 'Q6', 'Q7', 'Q8', 'Q9', 'Q21', 'Q20.1',\n",
       "       'Q21_1', 'Q21_2', 'Q21_3', 'Q21_11', 'Q21_12', 'Q21_13', 'Q21_14',\n",
       "       'Q21_15', 'Q21_16', 'Q21_17', 'Q23_2', 'Q23_3', 'Q23_1', 'Q23_4',\n",
       "       'Q22_1', 'Q22_2', 'Q22_3', 'Q22_4', 'Q22_5', 'Q22_6', 'Q22_8', 'Q22_7',\n",
       "       'Q24_1', 'Q24_2', 'Q24_8', 'Q24_3', 'Q24_7', 'Q24_4', 'Q24_5', 'Q24_6',\n",
       "       'Q25_4', 'Q25_5', 'Q25_6', 'Q25_7', 'Q25_8', 'Q25_9', 'Q33',\n",
       "       'Q33_5_TEXT', 'Q34', 'Q35', 'Q35_11_TEXT', 'Q36', 'Q36_11_TEXT', 'Q37',\n",
       "       'stub_x', 'Spr_22_Ret', 'Fa_22_Ret'],\n",
       "      dtype='object')"
      ]
     },
     "execution_count": 13,
     "metadata": {},
     "output_type": "execute_result"
    }
   ],
   "source": [
    "problems = survey[survey['Fa_22_Ret'].isna()]\n",
    "print(problems.shape)\n",
    "problems.columns"
   ]
  },
  {
   "cell_type": "code",
   "execution_count": 14,
   "id": "8f0a8c0d",
   "metadata": {
    "ExecuteTime": {
     "end_time": "2023-09-03T19:17:45.657590Z",
     "start_time": "2023-09-03T19:17:45.363633Z"
    }
   },
   "outputs": [],
   "source": [
    "problems.to_excel('problems.xlsx', index=False)"
   ]
  },
  {
   "cell_type": "code",
   "execution_count": 15,
   "id": "616c3773",
   "metadata": {
    "ExecuteTime": {
     "end_time": "2023-09-03T19:17:47.079293Z",
     "start_time": "2023-09-03T19:17:47.021256Z"
    }
   },
   "outputs": [],
   "source": [
    "filename = 'problems.xlsx'\n",
    "pwb = openpyxl.load_workbook(filename)\n",
    "prob = pwb.active"
   ]
  },
  {
   "cell_type": "code",
   "execution_count": 1,
   "id": "7321bc16",
   "metadata": {
    "ExecuteTime": {
     "end_time": "2023-09-15T21:22:48.331631Z",
     "start_time": "2023-09-15T21:22:48.298154Z"
    }
   },
   "outputs": [],
   "source": [
    "def get_better_id(stub): # Solving problems where the student ID is ivalid.\n",
    "    matching_row = mega[mega['stub'] == stub]\n",
    "\n",
    "    # Check if there is a match\n",
    "    if not matching_row.empty:\n",
    "        # Extract the value from 'Column 3' of the matching row and save it as 'gold'\n",
    "        id_num = matching_row.iloc[0]['EMPLID']\n",
    "        # Use conditional logic to assign \"good\" to 'EMPLID' where 'stub' is \"better\"\n",
    "        ret_row = ret[ret['EMPLID'] == id_num]\n",
    "        spr_ret = ret_row.iloc[0]['Spr_22_Ret']\n",
    "        fa_ret = ret_row.iloc[0]['Fa_22_Ret']\n",
    "        \n",
    "        survey.loc[survey['stub_x'] == stub, 'EMPLID'] = id_num\n",
    "        survey.loc[survey['stub_x'] == stub, 'Spr_22_Ret'] = spr_ret\n",
    "        survey.loc[survey['stub_x'] == stub, 'Fa_22_Ret'] = fa_ret\n",
    "    else:\n",
    "        #print(f\"No matching row found for 'stub' equal to '{stub}'\")\n",
    "        id_num = None\n",
    "        \n",
    "    return id_num"
   ]
  },
  {
   "cell_type": "code",
   "execution_count": 17,
   "id": "d2ba16cf",
   "metadata": {
    "ExecuteTime": {
     "end_time": "2023-09-03T19:17:48.839419Z",
     "start_time": "2023-09-03T19:17:48.772666Z"
    }
   },
   "outputs": [
    {
     "name": "stdout",
     "output_type": "stream",
     "text": [
      "0\n"
     ]
    }
   ],
   "source": [
    "fails = 0\n",
    "for r in range(2, 10):\n",
    "    email = prob.cell(row=r, column=12).value\n",
    "    if email == None:\n",
    "        email = prob.cell(row=r, column=20).value\n",
    "    stub = email.split('@')[0].lower()\n",
    "    id_num = get_better_id(stub)\n",
    "    if id_num in id_nums:\n",
    "        prob.cell(row=r, column=21).value = int(id_num)\n",
    "    else:\n",
    "        #print(f'No luck fixing {email}')\n",
    "        fails += 1\n",
    "print(fails)"
   ]
  },
  {
   "cell_type": "code",
   "execution_count": 18,
   "id": "e32400d9",
   "metadata": {
    "ExecuteTime": {
     "end_time": "2023-09-03T19:17:52.802258Z",
     "start_time": "2023-09-03T19:17:52.773288Z"
    }
   },
   "outputs": [
    {
     "data": {
      "text/plain": [
       "Index(['StartDate', 'EndDate', 'Status', 'IPAddress', 'Progress',\n",
       "       'Duration (in seconds)', 'Finished', 'RecordedDate', 'ResponseId',\n",
       "       'RecipientLastName', 'RecipientFirstName', 'RecipientEmail',\n",
       "       'ExternalReference', 'LocationLatitude', 'LocationLongitude',\n",
       "       'DistributionChannel', 'UserLanguage', 'Q2', 'Q3', 'Q20', 'EMPLID',\n",
       "       'Q27', 'Q29', 'Q30', 'Q22', 'Q6', 'Q7', 'Q8', 'Q9', 'Q21', 'Q20.1',\n",
       "       'Q21_1', 'Q21_2', 'Q21_3', 'Q21_11', 'Q21_12', 'Q21_13', 'Q21_14',\n",
       "       'Q21_15', 'Q21_16', 'Q21_17', 'Q23_2', 'Q23_3', 'Q23_1', 'Q23_4',\n",
       "       'Q22_1', 'Q22_2', 'Q22_3', 'Q22_4', 'Q22_5', 'Q22_6', 'Q22_8', 'Q22_7',\n",
       "       'Q24_1', 'Q24_2', 'Q24_8', 'Q24_3', 'Q24_7', 'Q24_4', 'Q24_5', 'Q24_6',\n",
       "       'Q25_4', 'Q25_5', 'Q25_6', 'Q25_7', 'Q25_8', 'Q25_9', 'Q33',\n",
       "       'Q33_5_TEXT', 'Q34', 'Q35', 'Q35_11_TEXT', 'Q36', 'Q36_11_TEXT', 'Q37',\n",
       "       'stub_x', 'Spr_22_Ret', 'Fa_22_Ret'],\n",
       "      dtype='object')"
      ]
     },
     "execution_count": 18,
     "metadata": {},
     "output_type": "execute_result"
    }
   ],
   "source": [
    "survey.columns"
   ]
  },
  {
   "cell_type": "code",
   "execution_count": 19,
   "id": "b1e8b9b4",
   "metadata": {
    "ExecuteTime": {
     "end_time": "2023-09-03T19:17:57.644743Z",
     "start_time": "2023-09-03T19:17:57.627757Z"
    }
   },
   "outputs": [
    {
     "data": {
      "text/plain": [
       "Index(['Q4', 'Q27', 'Q29', 'Q30', 'Q22', 'Q6', 'Q7', 'Q8', 'Q9', 'Q21',\n",
       "       'Q20.1', 'Q21_1', 'Q21_2', 'Q21_3', 'Q21_11', 'Q21_12', 'Q21_13',\n",
       "       'Q21_14', 'Q21_15', 'Q21_16', 'Q21_17', 'Q23_2', 'Q23_3', 'Q23_1',\n",
       "       'Q23_4', 'Q22_1', 'Q22_2', 'Q22_3', 'Q22_4', 'Q22_5', 'Q22_6', 'Q22_8',\n",
       "       'Q22_7', 'Q24_1', 'Q24_2', 'Q24_8', 'Q24_3', 'Q24_7', 'Q24_4', 'Q24_5',\n",
       "       'Q24_6', 'Q25_4', 'Q25_5', 'Q25_6', 'Q25_7', 'Q25_8', 'Q25_9',\n",
       "       'Spr_22_Ret', 'Fa_22_Ret'],\n",
       "      dtype='object')"
      ]
     },
     "execution_count": 19,
     "metadata": {},
     "output_type": "execute_result"
    }
   ],
   "source": [
    "survey = survey[['EMPLID', 'Q27', 'Q29', 'Q30', 'Q22', \n",
    "                 'Q6', 'Q7', 'Q8', 'Q9', 'Q21', 'Q20.1', \n",
    "                 'Q21_1', 'Q21_2', 'Q21_3', \n",
    "                 'Q21_11', 'Q21_12', 'Q21_13', 'Q21_14', 'Q21_15', 'Q21_16', 'Q21_17', \n",
    "                 'Q23_2', 'Q23_3', 'Q23_1', 'Q23_4', \n",
    "                 'Q22_1', 'Q22_2', 'Q22_3', 'Q22_4', 'Q22_5', 'Q22_6', 'Q22_8', 'Q22_7', \n",
    "                 'Q24_1', 'Q24_2', 'Q24_8', 'Q24_3', 'Q24_7', 'Q24_4', 'Q24_5', 'Q24_6', \n",
    "                 'Q25_4', 'Q25_5', 'Q25_6', 'Q25_7', 'Q25_8', 'Q25_9', \n",
    "                 'Spr_22_Ret', 'Fa_22_Ret']]\n",
    "survey.rename(columns={'EMPLID': 'Q4'}, inplace=True)\n",
    "survey.columns"
   ]
  },
  {
   "cell_type": "markdown",
   "id": "7d191a89",
   "metadata": {},
   "source": [
    "Exports the cleaned data as an Excel file"
   ]
  },
  {
   "cell_type": "code",
   "execution_count": 20,
   "id": "c0701b58",
   "metadata": {
    "ExecuteTime": {
     "end_time": "2023-09-03T19:18:02.812865Z",
     "start_time": "2023-09-03T19:18:00.987261Z"
    }
   },
   "outputs": [],
   "source": [
    "survey.to_excel('Retention_Dataset_late.xlsx', index=False)"
   ]
  },
  {
   "cell_type": "code",
   "execution_count": null,
   "id": "3a0c8f55",
   "metadata": {},
   "outputs": [],
   "source": []
  }
 ],
 "metadata": {
  "kernelspec": {
   "display_name": "Python 3 (ipykernel)",
   "language": "python",
   "name": "python3"
  },
  "language_info": {
   "codemirror_mode": {
    "name": "ipython",
    "version": 3
   },
   "file_extension": ".py",
   "mimetype": "text/x-python",
   "name": "python",
   "nbconvert_exporter": "python",
   "pygments_lexer": "ipython3",
   "version": "3.8.8"
  }
 },
 "nbformat": 4,
 "nbformat_minor": 5
}
