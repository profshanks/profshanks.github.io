{
 "cells": [
  {
   "cell_type": "markdown",
   "id": "eb65d82b",
   "metadata": {},
   "source": [
    "#### Exploratory Data Analysis:\n",
    "\n",
    "Let's see how predictive we are if we only look at the demographics"
   ]
  },
  {
   "cell_type": "code",
   "execution_count": 1,
   "id": "532d85b2",
   "metadata": {
    "ExecuteTime": {
     "end_time": "2023-08-07T21:00:34.256156Z",
     "start_time": "2023-08-07T21:00:31.644631Z"
    }
   },
   "outputs": [],
   "source": [
    "import pandas as pd\n",
    "import numpy as np\n",
    "import sys\n",
    "import random\n",
    "\n",
    "from matplotlib import pyplot as plt\n",
    "from statistics import mean, stdev\n",
    "from sklearn.model_selection import train_test_split"
   ]
  },
  {
   "cell_type": "code",
   "execution_count": 2,
   "id": "65615b89",
   "metadata": {
    "ExecuteTime": {
     "end_time": "2023-08-07T21:00:35.546154Z",
     "start_time": "2023-08-07T21:00:34.263063Z"
    }
   },
   "outputs": [
    {
     "data": {
      "text/plain": [
       "(941, 61)"
      ]
     },
     "execution_count": 2,
     "metadata": {},
     "output_type": "execute_result"
    }
   ],
   "source": [
    "#!pip install openpyxl\n",
    "survey = pd.read_excel('Retention_Dataset_CLEAN.xlsx')\n",
    "survey.shape"
   ]
  },
  {
   "cell_type": "code",
   "execution_count": 3,
   "id": "5c8ead49",
   "metadata": {
    "ExecuteTime": {
     "end_time": "2023-08-07T21:00:35.559882Z",
     "start_time": "2023-08-07T21:00:35.550854Z"
    }
   },
   "outputs": [
    {
     "data": {
      "text/plain": [
       "Index(['Q4', 'Q6', 'Q7', 'Q8', 'Q9', 'Q21', 'Q20', 'Q21_1', 'Q21_2', 'Q21_3',\n",
       "       'Q21_11', 'Q21_12', 'Q21_13', 'Q21_14', 'Q21_15', 'Q21_16', 'Q21_17',\n",
       "       'Q23_2', 'Q23_3', 'Q23_1', 'Q23_4', 'Q22_1', 'Q22_2', 'Q22_3', 'Q22_4',\n",
       "       'Q22_5', 'Q22_6', 'Q22_8', 'Q22_7', 'Q24_1', 'Q24_2', 'Q24_8', 'Q24_3',\n",
       "       'Q24_7', 'Q24_4', 'Q24_5', 'Q24_6', 'Q25_4', 'Q25_5', 'Q25_6', 'Q25_7',\n",
       "       'Q25_8', 'Q25_9', 'Spr_22_Ret', 'Fa_22_Ret',\n",
       "       'Q27_American Indian or Alaska Native', 'Q27_Asian',\n",
       "       'Q27_Black or African American', 'Q27_Other', 'Q27_White', 'Q29_Female',\n",
       "       'Q29_Male', 'Q29_Non-binary / third gender', 'Q29_Prefer not to say',\n",
       "       'Q30_No', 'Q30_Prefer not to say', 'Q30_Yes',\n",
       "       'Q22_Off-Campus (with family)', 'Q22_Off-Campus (with friends etc.)',\n",
       "       'Q22_On-Campus', 'Q22_Other'],\n",
       "      dtype='object')"
      ]
     },
     "execution_count": 3,
     "metadata": {},
     "output_type": "execute_result"
    }
   ],
   "source": [
    "survey.columns"
   ]
  },
  {
   "cell_type": "markdown",
   "id": "28378c73",
   "metadata": {},
   "source": [
    "### Task 1: Create the training set & the result set\n",
    "\n",
    "\"just_data\" will be the matrix of data that contains the survey data for each student.\n",
    "\"y_vals\" will be the \"matrix\" of data that contains the retention result.\n",
    "\n",
    "Both of these will then be converted into Numpy matrices that we will label \"X\" and \"y.\"\n",
    "Using these labels will allow us to reuse the code from the ML course with fewer changes."
   ]
  },
  {
   "cell_type": "code",
   "execution_count": 4,
   "id": "548f1b62",
   "metadata": {
    "ExecuteTime": {
     "end_time": "2023-08-07T21:00:35.589854Z",
     "start_time": "2023-08-07T21:00:35.566867Z"
    }
   },
   "outputs": [],
   "source": [
    "just_data = survey[['Q27_American Indian or Alaska Native', 'Q27_Asian',\n",
    "       'Q27_Black or African American', 'Q27_Other', 'Q27_White', 'Q29_Female',\n",
    "       'Q29_Male', 'Q29_Non-binary / third gender', 'Q29_Prefer not to say',\n",
    "       'Q30_No', 'Q30_Prefer not to say', 'Q30_Yes',\n",
    "       'Q22_Off-Campus (with family)', 'Q22_Off-Campus (with friends etc.)',\n",
    "       'Q22_On-Campus', 'Q22_Other']]\n",
    "just_data.shape\n",
    "\n",
    "y_vals = survey[['Fa_22_Ret']]\n",
    "y_vals.shape\n",
    "\n",
    "X = just_data.to_numpy()\n",
    "y = y_vals.to_numpy()"
   ]
  },
  {
   "cell_type": "code",
   "execution_count": 5,
   "id": "bf42fcf6",
   "metadata": {
    "ExecuteTime": {
     "end_time": "2023-08-07T21:00:35.605854Z",
     "start_time": "2023-08-07T21:00:35.593853Z"
    }
   },
   "outputs": [
    {
     "name": "stdout",
     "output_type": "stream",
     "text": [
      "The first element of X is:  [False False False False  True False  True False False  True False False\n",
      " False False  True False]\n",
      "The first element of y is:  [1]\n",
      "The shape of X is: (941, 16)\n",
      "The shape of y is: (941, 1)\n"
     ]
    }
   ],
   "source": [
    "print ('The first element of X is: ', X[0])\n",
    "print ('The first element of y is: ', y[0])\n",
    "\n",
    "print ('The shape of X is: ' + str(X.shape))\n",
    "print ('The shape of y is: ' + str(y.shape))"
   ]
  },
  {
   "cell_type": "markdown",
   "id": "6278ed86",
   "metadata": {},
   "source": [
    "#### Split the Dataset\n",
    "The following code with use scikitlearn to split out 60% of the data for training, 20% for cross-validation, and 20% for final testing"
   ]
  },
  {
   "cell_type": "code",
   "execution_count": 6,
   "id": "2037d25d",
   "metadata": {
    "ExecuteTime": {
     "end_time": "2023-08-07T21:00:35.621886Z",
     "start_time": "2023-08-07T21:00:35.609853Z"
    }
   },
   "outputs": [
    {
     "name": "stdout",
     "output_type": "stream",
     "text": [
      "X_train.shape (470, 16) y_train.shape (470, 1)\n",
      "X_test.shape (471, 16) y_test.shape (471, 1)\n"
     ]
    }
   ],
   "source": [
    "#split the data using sklearn routine \n",
    "X_train, X_test, y_train, y_test = train_test_split(X,y,test_size=0.50, random_state=1)\n",
    "print(\"X_train.shape\", X_train.shape, \"y_train.shape\", y_train.shape)\n",
    "print(\"X_test.shape\", X_test.shape, \"y_test.shape\", y_test.shape)"
   ]
  },
  {
   "cell_type": "markdown",
   "id": "40d90fa0",
   "metadata": {},
   "source": [
    "#### Lay out the Variables"
   ]
  },
  {
   "cell_type": "markdown",
   "id": "d23bfa1c",
   "metadata": {},
   "source": [
    "#### Define Some Functions"
   ]
  },
  {
   "cell_type": "code",
   "execution_count": 7,
   "id": "8fe123aa",
   "metadata": {
    "ExecuteTime": {
     "end_time": "2023-08-07T21:00:35.637853Z",
     "start_time": "2023-08-07T21:00:35.624854Z"
    }
   },
   "outputs": [],
   "source": [
    "def retention_ratio(column, option, retention):\n",
    "    ret_total = 0\n",
    "    option_total = 0\n",
    "    \n",
    "    for i in range(len(column)):\n",
    "        if column[i] == option:\n",
    "            option_total += 1\n",
    "            if retention[i] == 1:\n",
    "                ret_total += 1\n",
    "    if option_total == 0:\n",
    "        return 0\n",
    "    return ret_total/option_total"
   ]
  },
  {
   "cell_type": "code",
   "execution_count": 8,
   "id": "09fee268",
   "metadata": {
    "ExecuteTime": {
     "end_time": "2023-08-07T21:00:35.653885Z",
     "start_time": "2023-08-07T21:00:35.641941Z"
    }
   },
   "outputs": [],
   "source": [
    "def create_probability_array(optionsDict):\n",
    "    values = list(optionsDict.values())\n",
    "    Options2 = {}\n",
    "    for key, value in optionsDict.items():\n",
    "        Options2[value] = key\n",
    "    model_prob = {}\n",
    "    for option in values:\n",
    "        retention_pct = retention_ratio(X_train[:, 0], option , y_train)\n",
    "        #print(f'Retention for {Options2[option]} students is: {round((retention_pct*100), 1)}%')\n",
    "        model_prob[option] = retention_pct\n",
    "    return model_prob"
   ]
  },
  {
   "cell_type": "code",
   "execution_count": 9,
   "id": "d96bce4e",
   "metadata": {
    "ExecuteTime": {
     "end_time": "2023-08-07T21:00:35.669854Z",
     "start_time": "2023-08-07T21:00:35.657853Z"
    }
   },
   "outputs": [],
   "source": [
    "def predict_me(prob_array, option):\n",
    "    test_prob = prob_array[option]\n",
    "    if random.random() < test_prob:\n",
    "        return 1\n",
    "    else:\n",
    "        return 0"
   ]
  },
  {
   "cell_type": "code",
   "execution_count": 10,
   "id": "8ac90cf9",
   "metadata": {
    "ExecuteTime": {
     "end_time": "2023-08-07T21:00:35.685428Z",
     "start_time": "2023-08-07T21:00:35.675857Z"
    }
   },
   "outputs": [],
   "source": [
    "def test_prediction(prob_model, test_option):\n",
    "    ones = 0\n",
    "    for i in range(10000):\n",
    "        prediction = predict_me(prob_model, test_option)\n",
    "        if prediction  == 1:\n",
    "            ones += 1\n",
    "    print(ones/100)"
   ]
  },
  {
   "cell_type": "code",
   "execution_count": 11,
   "id": "041a1b0d",
   "metadata": {
    "ExecuteTime": {
     "end_time": "2023-08-07T21:00:35.701000Z",
     "start_time": "2023-08-07T21:00:35.687857Z"
    }
   },
   "outputs": [],
   "source": [
    "def eval_prediction(prob_array, data_column):\n",
    "    test_prediction = []\n",
    "    for i in X_test[:, data_column]:\n",
    "        guess = predict_me(prob_array, i)\n",
    "        test_prediction.append(guess)\n",
    "    wins = 0\n",
    "    for i in range(len(test_prediction)):\n",
    "        if test_prediction[i] == y_test[i]:\n",
    "            wins += 1\n",
    "    result = round(wins/len(test_prediction) * 100, 2)\n",
    "    return result"
   ]
  },
  {
   "cell_type": "code",
   "execution_count": 12,
   "id": "0be85139",
   "metadata": {
    "ExecuteTime": {
     "end_time": "2023-08-07T21:00:35.716886Z",
     "start_time": "2023-08-07T21:00:35.704854Z"
    }
   },
   "outputs": [],
   "source": [
    "def test_question(questionDict, data_column):\n",
    "    model_prob = create_probability_array(questionDict)\n",
    "    result = eval_prediction(model_prob, data_column)\n",
    "    return result"
   ]
  },
  {
   "cell_type": "markdown",
   "id": "c123b55a",
   "metadata": {},
   "source": [
    "### Ethnicity"
   ]
  },
  {
   "cell_type": "code",
   "execution_count": 13,
   "id": "0086a79f",
   "metadata": {
    "ExecuteTime": {
     "end_time": "2023-08-07T21:00:35.748926Z",
     "start_time": "2023-08-07T21:00:35.719885Z"
    }
   },
   "outputs": [
    {
     "name": "stdout",
     "output_type": "stream",
     "text": [
      "\n",
      "This model was 62.85% effective at guessing the retention status using race alone.\n"
     ]
    }
   ],
   "source": [
    "ethnicityOptions = {'White': 1, 'Black or African American': 3, 'American Indian or Alaska Native': 4,\n",
    "                    'Asian': 2, 'Native Hawaiian or Pacific Islander': 5, 'Other': 0}\n",
    "\n",
    "def get_e_result():\n",
    "    return test_question(ethnicityOptions, 0)\n",
    "\n",
    "e_result = get_e_result()\n",
    "print()\n",
    "print(f'This model was {e_result}% effective at guessing the retention status using race alone.')"
   ]
  },
  {
   "cell_type": "markdown",
   "id": "bcb37211",
   "metadata": {},
   "source": [
    "### Gender"
   ]
  },
  {
   "cell_type": "code",
   "execution_count": 14,
   "id": "a1454916",
   "metadata": {
    "ExecuteTime": {
     "end_time": "2023-08-07T21:00:35.780326Z",
     "start_time": "2023-08-07T21:00:35.753926Z"
    }
   },
   "outputs": [
    {
     "name": "stdout",
     "output_type": "stream",
     "text": [
      "\n",
      "This model was 60.93% effective at guessing the retention status using gender alone.\n"
     ]
    }
   ],
   "source": [
    "genderOptions = {'Male': 3, 'Female': 2, 'Non-binary / third gender': 1, 'Prefer not to say': 0}\n",
    "\n",
    "def get_g_result():\n",
    "    return test_question(genderOptions, 1)\n",
    "\n",
    "g_result = get_g_result()\n",
    "print()\n",
    "print(f'This model was {g_result}% effective at guessing the retention status using gender alone.')"
   ]
  },
  {
   "cell_type": "markdown",
   "id": "28cfbeb3",
   "metadata": {},
   "source": [
    "### First Generation Status"
   ]
  },
  {
   "cell_type": "code",
   "execution_count": 15,
   "id": "67b03612",
   "metadata": {
    "ExecuteTime": {
     "end_time": "2023-08-07T21:00:35.811419Z",
     "start_time": "2023-08-07T21:00:35.783912Z"
    }
   },
   "outputs": [
    {
     "name": "stdout",
     "output_type": "stream",
     "text": [
      "\n",
      "This model was 62.42% effective at guessing the retention status using first gen status alone.\n"
     ]
    }
   ],
   "source": [
    "firstGenOptions = {'Yes': 2, 'No': 1, 'Prefer not to say': 0}\n",
    "\n",
    "def get_f_result():\n",
    "    return test_question(firstGenOptions, 2)\n",
    "\n",
    "f_result = get_f_result()\n",
    "print()\n",
    "print(f'This model was {f_result}% effective at guessing the retention status using first gen status alone.')"
   ]
  },
  {
   "cell_type": "markdown",
   "id": "4f4b3583",
   "metadata": {},
   "source": [
    "### Living Options"
   ]
  },
  {
   "cell_type": "code",
   "execution_count": 16,
   "id": "3c79f9dd",
   "metadata": {
    "ExecuteTime": {
     "end_time": "2023-08-07T21:00:35.857450Z",
     "start_time": "2023-08-07T21:00:35.817791Z"
    }
   },
   "outputs": [
    {
     "name": "stdout",
     "output_type": "stream",
     "text": [
      "\n",
      "This model was 64.76% effective at guessing the retention status using living arrangements alone.\n"
     ]
    }
   ],
   "source": [
    "livingOptions = {'On-Campus': 3, 'Off-Campus (with family)': 2,\n",
    "                 'Off-Campus (with friends etc.)': 1, 'Other': 0}\n",
    "\n",
    "def get_L_result():\n",
    "    return test_question(livingOptions, 3)\n",
    "\n",
    "L_result = get_L_result()\n",
    "print()\n",
    "print(f'This model was {L_result}% effective at guessing the retention status using living arrangements alone.')"
   ]
  },
  {
   "cell_type": "markdown",
   "id": "54e37f82",
   "metadata": {},
   "source": [
    "### Leveraging All Four Options"
   ]
  },
  {
   "cell_type": "code",
   "execution_count": 17,
   "id": "a5c809eb",
   "metadata": {
    "ExecuteTime": {
     "end_time": "2023-08-07T21:00:35.935559Z",
     "start_time": "2023-08-07T21:00:35.865446Z"
    }
   },
   "outputs": [],
   "source": [
    "model_e_prob = create_probability_array(ethnicityOptions)\n",
    "model_g_prob = create_probability_array(genderOptions)\n",
    "model_f_prob = create_probability_array(firstGenOptions)\n",
    "model_L_prob = create_probability_array(livingOptions)"
   ]
  },
  {
   "cell_type": "code",
   "execution_count": 18,
   "id": "ceae9033",
   "metadata": {
    "ExecuteTime": {
     "end_time": "2023-08-07T21:00:35.982521Z",
     "start_time": "2023-08-07T21:00:35.939437Z"
    }
   },
   "outputs": [
    {
     "name": "stdout",
     "output_type": "stream",
     "text": [
      "This model was 62.42% effective at guessing the retention status by combining the demographics.\n"
     ]
    }
   ],
   "source": [
    "def model_unified(array):\n",
    "    basic_prob = [model_e_prob[array[0]],\n",
    "                model_g_prob[array[1]],\n",
    "                model_f_prob[array[2]],\n",
    "                model_L_prob[array[3]]]\n",
    "\n",
    "    all_prob = basic_prob\n",
    "    final_prob = mean(all_prob)\n",
    "    if random.random() < final_prob:\n",
    "        return 1\n",
    "    else:\n",
    "        return 0\n",
    "\n",
    "def get_U_result():\n",
    "    final_predict = []\n",
    "\n",
    "    for i in X_test:\n",
    "        guess = model_unified(i)\n",
    "        final_predict.append(guess)\n",
    "\n",
    "    wins = 0\n",
    "    for i in range(len(final_predict)):\n",
    "        if final_predict[i] == y_test[i]:\n",
    "            wins +=1\n",
    "    result = round(wins/len(final_predict) * 100, 2)\n",
    "    return result\n",
    "\n",
    "U_result = get_U_result()\n",
    "print(f'This model was {U_result}% effective at guessing the retention status by combining the demographics.')"
   ]
  },
  {
   "cell_type": "markdown",
   "id": "96260f9d",
   "metadata": {},
   "source": [
    "### Weighing the Parameters"
   ]
  },
  {
   "cell_type": "code",
   "execution_count": 19,
   "id": "c842afa4",
   "metadata": {
    "ExecuteTime": {
     "end_time": "2023-08-07T21:00:36.014437Z",
     "start_time": "2023-08-07T21:00:35.985442Z"
    }
   },
   "outputs": [],
   "source": [
    "model_e_prob = create_probability_array(ethnicityOptions)\n",
    "model_g_prob = create_probability_array(genderOptions)\n",
    "model_f_prob = create_probability_array(firstGenOptions)\n",
    "model_L_prob = create_probability_array(livingOptions)"
   ]
  },
  {
   "cell_type": "code",
   "execution_count": 20,
   "id": "b9d908b3",
   "metadata": {
    "ExecuteTime": {
     "end_time": "2023-08-07T21:00:36.045439Z",
     "start_time": "2023-08-07T21:00:36.017439Z"
    }
   },
   "outputs": [
    {
     "name": "stdout",
     "output_type": "stream",
     "text": [
      "This model was 65.39% effective at guessing the retention status by weighting the combined demographics.\n"
     ]
    }
   ],
   "source": [
    "def model_weighted(array):\n",
    "    weighted_prob = [model_e_prob[array[0]],\n",
    "                    model_e_prob[array[0]],\n",
    "                    model_f_prob[array[2]]]\n",
    "\n",
    "    all_prob = weighted_prob\n",
    "    final_prob = mean(all_prob)\n",
    "    if random.random() < final_prob:\n",
    "        return 1\n",
    "    else:\n",
    "        return 0\n",
    "\n",
    "def get_w_result():\n",
    "    final_predict = []\n",
    "\n",
    "    for i in X_test:\n",
    "        guess = model_unified(i)\n",
    "        final_predict.append(guess)\n",
    "\n",
    "    wins = 0\n",
    "    for i in range(len(final_predict)):\n",
    "        if final_predict[i] == y_test[i]:\n",
    "            wins +=1\n",
    "    result = round(wins/len(final_predict) * 100, 2)\n",
    "    return result\n",
    "\n",
    "w_result = get_w_result()\n",
    "print(f'This model was {w_result}% effective at guessing the retention status by weighting the combined demographics.')"
   ]
  },
  {
   "cell_type": "markdown",
   "id": "e57cc96b",
   "metadata": {},
   "source": [
    "### Ground-Truth"
   ]
  },
  {
   "cell_type": "code",
   "execution_count": 21,
   "id": "27f22414",
   "metadata": {
    "ExecuteTime": {
     "end_time": "2023-08-07T21:00:36.061437Z",
     "start_time": "2023-08-07T21:00:36.050457Z"
    }
   },
   "outputs": [
    {
     "name": "stdout",
     "output_type": "stream",
     "text": [
      "The actual retention figure for the test group is 75.8%\n"
     ]
    }
   ],
   "source": [
    "retained = 0\n",
    "for i in y_test:\n",
    "    if i == 1:\n",
    "        retained += 1\n",
    "ret_prob = round(retained/len(y_test), 3)\n",
    "print(f'The actual retention figure for the test group is {ret_prob * 100}%')"
   ]
  },
  {
   "cell_type": "code",
   "execution_count": 22,
   "id": "3c4ab7e5",
   "metadata": {
    "ExecuteTime": {
     "end_time": "2023-08-07T21:00:36.076716Z",
     "start_time": "2023-08-07T21:00:36.065436Z"
    }
   },
   "outputs": [
    {
     "name": "stdout",
     "output_type": "stream",
     "text": [
      "The actual retention figure for the training group is 76.0%\n"
     ]
    }
   ],
   "source": [
    "retained = 0\n",
    "for i in y_train:\n",
    "    if i == 1:\n",
    "        retained += 1\n",
    "ret_prob = round(retained/len(y_train), 3)\n",
    "print(f'The actual retention figure for the training group is {ret_prob * 100}%')"
   ]
  },
  {
   "cell_type": "markdown",
   "id": "b684a840",
   "metadata": {},
   "source": [
    "### Just Raw Probability"
   ]
  },
  {
   "cell_type": "code",
   "execution_count": 23,
   "id": "4ca2d6cf",
   "metadata": {
    "ExecuteTime": {
     "end_time": "2023-08-07T21:00:36.092437Z",
     "start_time": "2023-08-07T21:00:36.080441Z"
    }
   },
   "outputs": [],
   "source": [
    "def model_dumb(probability):\n",
    "    test_prob = probability\n",
    "    if random.random() < test_prob:\n",
    "        return 1\n",
    "    else:\n",
    "        return 0"
   ]
  },
  {
   "cell_type": "code",
   "execution_count": 24,
   "id": "60f40e53",
   "metadata": {
    "ExecuteTime": {
     "end_time": "2023-08-07T21:00:36.108437Z",
     "start_time": "2023-08-07T21:00:36.097438Z"
    }
   },
   "outputs": [],
   "source": [
    "def get_p_result(probability):\n",
    "    test_prediction = []\n",
    "\n",
    "    for i in X_test[:, 3]:\n",
    "        guess = model_dumb(probability)\n",
    "        test_prediction.append(guess)\n",
    "\n",
    "    wins = 0\n",
    "    for i in range(len(test_prediction)):\n",
    "        if test_prediction[i] == y_test[i]:\n",
    "            wins +=1\n",
    "    result = round(wins/len(test_prediction) * 100, 3)\n",
    "    return result"
   ]
  },
  {
   "cell_type": "code",
   "execution_count": 31,
   "id": "b59ef114",
   "metadata": {
    "ExecuteTime": {
     "end_time": "2023-08-07T21:01:28.062127Z",
     "start_time": "2023-08-07T21:01:28.052089Z"
    }
   },
   "outputs": [
    {
     "name": "stdout",
     "output_type": "stream",
     "text": [
      "This model was 59.448% effective at guessing the retention status using the retention % of the training group alone.\n"
     ]
    }
   ],
   "source": [
    "p_result = get_p_result(.76)\n",
    "print(f'This model was {p_result}% effective at guessing the retention status using the retention % of the training group alone.')"
   ]
  },
  {
   "cell_type": "code",
   "execution_count": 44,
   "id": "cbe3b1b2",
   "metadata": {
    "ExecuteTime": {
     "end_time": "2023-08-07T21:18:58.434359Z",
     "start_time": "2023-08-07T21:18:58.394525Z"
    }
   },
   "outputs": [
    {
     "name": "stdout",
     "output_type": "stream",
     "text": [
      "\n",
      "The threshold for this test was: 0.76\n",
      "[[529 178]\n",
      " [185  49]]\n",
      "This would lead to 234 interviews, and would catch 21.6% of the departees.\n",
      "The accuracy of this prediction was 61.4%\n"
     ]
    }
   ],
   "source": [
    "probability = 0.76\n",
    "predictions = []\n",
    "\n",
    "TP = 0\n",
    "FP = 0\n",
    "FN = 0\n",
    "TN = 0\n",
    "\n",
    "for i in X[:, 3]:\n",
    "    guess = model_dumb(probability)\n",
    "    predictions.append(guess)\n",
    "\n",
    "for i in range(len(predictions)):\n",
    "    prediction = predictions[i]\n",
    "    if prediction == y[i]:\n",
    "        if prediction == 1:\n",
    "            TP += 1\n",
    "        else:\n",
    "            TN += 1\n",
    "    else:\n",
    "        if prediction == 1:\n",
    "            FP += 1\n",
    "        else:\n",
    "            FN += 1\n",
    "#confusion_matrix = np.array([[TP, FP], [FN, TN]])\n",
    "confusion_matrix = [TP, FP, FN, TN]\n",
    "accuracy = (TP+TN)/len(predictions)\n",
    "\n",
    "matrix = np.array([[TP, FP], [FN, TN]])\n",
    "print()\n",
    "print(f'The threshold for this test was: {probability}')\n",
    "print(matrix)\n",
    "\n",
    "print(f'This would lead to {FN+TN} interviews, and would catch {round((TN/(FP+TN) * 100), 1)}% of the departees.')\n",
    "print(f'The accuracy of this prediction was {round((accuracy * 100), 1)}%')"
   ]
  },
  {
   "cell_type": "markdown",
   "id": "a1788dbd",
   "metadata": {},
   "source": [
    "### Just Guessing \"1\" Every Time"
   ]
  },
  {
   "cell_type": "code",
   "execution_count": 26,
   "id": "9616d547",
   "metadata": {
    "ExecuteTime": {
     "end_time": "2023-08-07T21:00:36.140520Z",
     "start_time": "2023-08-07T21:00:36.127437Z"
    }
   },
   "outputs": [],
   "source": [
    "def guess_1(data):\n",
    "    return 1"
   ]
  },
  {
   "cell_type": "code",
   "execution_count": 27,
   "id": "5857a217",
   "metadata": {
    "ExecuteTime": {
     "end_time": "2023-08-07T21:00:36.156174Z",
     "start_time": "2023-08-07T21:00:36.142436Z"
    }
   },
   "outputs": [
    {
     "name": "stdout",
     "output_type": "stream",
     "text": [
      "This model was 75.796% effective at guessing the retention status by just guessing \"1\" every time.\n"
     ]
    }
   ],
   "source": [
    "test_prediction = []\n",
    "\n",
    "for i in X_test[:, 3]:\n",
    "    guess = guess_1(i)\n",
    "    test_prediction.append(guess)\n",
    "    \n",
    "wins = 0\n",
    "for i in range(len(test_prediction)):\n",
    "    if test_prediction[i] == y_test[i]:\n",
    "        wins +=1\n",
    "\n",
    "guess_result = round(wins/len(test_prediction) * 100, 3)\n",
    "print(f'This model was {guess_result}% effective at guessing the retention status by just guessing \"1\" every time.')"
   ]
  },
  {
   "cell_type": "code",
   "execution_count": 28,
   "id": "facd7230",
   "metadata": {
    "ExecuteTime": {
     "end_time": "2023-08-07T21:00:36.171437Z",
     "start_time": "2023-08-07T21:00:36.165438Z"
    }
   },
   "outputs": [
    {
     "name": "stdout",
     "output_type": "stream",
     "text": [
      "Ethnicity success: 62.85\n",
      "Gender success: 60.93\n",
      "First Gen success: 62.42\n",
      "Living Arrangement success: 64.76\n",
      "Combined success: 62.42\n",
      "Basic Probability success: 68.79\n",
      "Guess \"1\" success: 75.796\n"
     ]
    }
   ],
   "source": [
    "print(f'Ethnicity success: {e_result}')\n",
    "print(f'Gender success: {g_result}')\n",
    "print(f'First Gen success: {f_result}')\n",
    "print(f'Living Arrangement success: {L_result}')\n",
    "print(f'Combined success: {U_result}')\n",
    "print(f'Basic Probability success: {p_result}')\n",
    "print(f'Guess \"1\" success: {guess_result}')"
   ]
  },
  {
   "cell_type": "code",
   "execution_count": 29,
   "id": "1e79f364",
   "metadata": {
    "ExecuteTime": {
     "end_time": "2023-08-07T21:00:36.202695Z",
     "start_time": "2023-08-07T21:00:36.174438Z"
    }
   },
   "outputs": [],
   "source": [
    "def iterate_me(cycles):\n",
    "    #define result lists\n",
    "    e_results = []\n",
    "    g_results = []\n",
    "    f_results = []\n",
    "    L_results = []\n",
    "    U_results = []\n",
    "    p_results = []\n",
    "    w_results = []\n",
    "    \n",
    "    e_means = []\n",
    "    g_means = []\n",
    "    f_means = []\n",
    "    L_means = []\n",
    "    U_means = []\n",
    "    p_means = []\n",
    "    w_means = []\n",
    "    \n",
    "    #generate results\n",
    "    for i in range(cycles):\n",
    "        e_results.append(get_e_result())\n",
    "        g_results.append(get_g_result())\n",
    "        f_results.append(get_f_result())\n",
    "        L_results.append(get_L_result())\n",
    "        U_results.append(get_U_result())\n",
    "        p_results.append(get_p_result(.758))\n",
    "        w_results.append(get_w_result())\n",
    "        \n",
    "        e_means.append(round(mean(e_results), 2))\n",
    "        g_means.append(round(mean(g_results), 2))\n",
    "        f_means.append(round(mean(f_results), 2))\n",
    "        L_means.append(round(mean(L_results), 2))\n",
    "        U_means.append(round(mean(U_results), 2))\n",
    "        p_means.append(round(mean(p_results), 2))\n",
    "        w_means.append(round(mean(w_results), 2))\n",
    "        \n",
    "    #chart results\n",
    "    \n",
    "    data = {\n",
    "        'Ethnicity': e_means,\n",
    "        'Probability': p_means,\n",
    "        'Combined': U_means,\n",
    "        '1st Gen Status': f_means,\n",
    "        'Gender': g_means,\n",
    "        'Living Arr': L_means        \n",
    "    }\n",
    "    '''\n",
    "    data = {\n",
    "        'Ethnicity': e_means,\n",
    "        'Weighted': w_means,\n",
    "        'Probability': p_means,\n",
    "        'Combined': U_means,\n",
    "        '1st Gen Status': f_means,\n",
    "        'Gender': g_means,\n",
    "        'Living Arr': L_means        \n",
    "    }'''\n",
    "\n",
    "    df = pd.DataFrame(data)\n",
    "    df.plot(figsize=(12,6))\n",
    "    probability = plt.gca().lines[1].set_linewidth(3)\n",
    "    #weighted = plt.gca().lines[1].set_linestyle('--')\n",
    "    plt.xlabel('Iterations')\n",
    "    plt.ylabel('Accuracy')\n",
    "    plt.title('Predictive Accuracy for Demographic Categories')\n",
    "    plt.legend(loc='lower left')\n",
    "    plt.show()\n",
    "    \n",
    "    #print calculated averages & standard deviations \n",
    "    e_mean = round(mean(e_results), 2)\n",
    "    g_mean = round(mean(g_results), 2)\n",
    "    f_mean = round(mean(f_results), 2)\n",
    "    L_mean = round(mean(L_results), 2)\n",
    "    U_mean = round(mean(U_results), 2)\n",
    "    p_mean = round(mean(p_results), 2)\n",
    "    w_mean = round(mean(w_results), 2)\n",
    "    \n",
    "    \n",
    "    e_stdev = round(stdev(e_results), 2)\n",
    "    g_stdev = round(stdev(g_results), 2)\n",
    "    f_stdev = round(stdev(f_results), 2)\n",
    "    L_stdev = round(stdev(L_results), 2)\n",
    "    U_stdev = round(stdev(U_results), 2)\n",
    "    p_stdev = round(stdev(p_results), 2)\n",
    "    w_stdev = round(stdev(w_results), 2)\n",
    "    \n",
    "    print(f'After {cycles}, the average success-rates and standardard deviations for the models are as follows:')\n",
    "    print(f'ETHNICITY            Accuracy: {e_mean}%   Standard Deviation: {e_stdev}')\n",
    "    print(f'GENDER               Accuracy: {g_mean}%   Standard Deviation: {f_stdev}')\n",
    "    print(f'FIRST GEN STATUS     Accuracy: {f_mean}%   Standard Deviation: {g_stdev}')\n",
    "    print(f'LIVING ARRANGEMENT   Accuracy: {L_mean}%   Standard Deviation: {L_stdev}')\n",
    "    print(f'COMBINED             Accuracy: {U_mean}%   Standard Deviation: {U_stdev}')\n",
    "    #print(f'WEIGHTED             Accuracy: {w_mean}%   Standard Deviation: {w_stdev}')\n",
    "    print(f'PROBABILITY ALONE    Accuracy: {p_mean}%   Standard Deviation: {p_stdev}')"
   ]
  },
  {
   "cell_type": "code",
   "execution_count": 30,
   "id": "8c9007a2",
   "metadata": {
    "ExecuteTime": {
     "end_time": "2023-08-07T21:01:28.046099Z",
     "start_time": "2023-08-07T21:00:36.205751Z"
    }
   },
   "outputs": [
    {
     "data": {
      "image/png": "[encoded data removed]",
      "text/plain": [
       "<Figure size 1200x600 with 1 Axes>"
      ]
     },
     "metadata": {},
     "output_type": "display_data"
    },
    {
     "name": "stdout",
     "output_type": "stream",
     "text": [
      "After 1000, the average success-rates and standardard deviations for the models are as follows:\n",
      "ETHNICITY            Accuracy: 63.78%   Standard Deviation: 2.09\n",
      "GENDER               Accuracy: 61.89%   Standard Deviation: 1.91\n",
      "FIRST GEN STATUS     Accuracy: 63.19%   Standard Deviation: 1.96\n",
      "LIVING ARRANGEMENT   Accuracy: 62.9%   Standard Deviation: 1.91\n",
      "COMBINED             Accuracy: 62.97%   Standard Deviation: 1.98\n",
      "PROBABILITY ALONE    Accuracy: 63.31%   Standard Deviation: 2.0\n"
     ]
    }
   ],
   "source": [
    "iterate_me(1000)"
   ]
  },
  {
   "cell_type": "markdown",
   "id": "9fbd5256",
   "metadata": {},
   "source": [
    "## Summary:\n"
   ]
  },
  {
   "cell_type": "code",
   "execution_count": null,
   "id": "6f3b7376",
   "metadata": {},
   "outputs": [],
   "source": []
  }
 ],
 "metadata": {
  "kernelspec": {
   "display_name": "Python 3 (ipykernel)",
   "language": "python",
   "name": "python3"
  },
  "language_info": {
   "codemirror_mode": {
    "name": "ipython",
    "version": 3
   },
   "file_extension": ".py",
   "mimetype": "text/x-python",
   "name": "python",
   "nbconvert_exporter": "python",
   "pygments_lexer": "ipython3",
   "version": "3.8.8"
  }
 },
 "nbformat": 4,
 "nbformat_minor": 5
}
